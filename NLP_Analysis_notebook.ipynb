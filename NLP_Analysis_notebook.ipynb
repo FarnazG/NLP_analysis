{
 "cells": [
  {
   "cell_type": "markdown",
   "metadata": {},
   "source": [
    "# NLP- Analysis"
   ]
  },
  {
   "cell_type": "markdown",
   "metadata": {},
   "source": [
    "# Abstract:\n",
    "\n",
    "This notebook consists of :\n",
    "\n",
    "1. Applying Text_cleaning on reviews grouped by star_ratings\n",
    "2. Sentiment Analysis including Polarity and Subjectivity\n",
    "3. Comparing review_polarities vs review_star_ratings to reflect which term is more informative\n",
    "4. TF_IDF and word_count analysis to reflect how important a word is to a review and how many times it has been repeated\n",
    "5. Word-Embeding analysis to gain further insights about boutique reviews "
   ]
  },
  {
   "cell_type": "markdown",
   "metadata": {},
   "source": [
    "# Import Libraries"
   ]
  },
  {
   "cell_type": "code",
   "execution_count": 3,
   "metadata": {
    "scrolled": true
   },
   "outputs": [
    {
     "name": "stderr",
     "output_type": "stream",
     "text": [
      "[nltk_data] Downloading package punkt to\n",
      "[nltk_data]     C:\\Users\\farnaz\\AppData\\Roaming\\nltk_data...\n",
      "[nltk_data]   Package punkt is already up-to-date!\n",
      "[nltk_data] Downloading package words to\n",
      "[nltk_data]     C:\\Users\\farnaz\\AppData\\Roaming\\nltk_data...\n",
      "[nltk_data]   Package words is already up-to-date!\n",
      "[nltk_data] Downloading package stopwords to\n",
      "[nltk_data]     C:\\Users\\farnaz\\AppData\\Roaming\\nltk_data...\n",
      "[nltk_data]   Package stopwords is already up-to-date!\n"
     ]
    }
   ],
   "source": [
    "import pandas as pd\n",
    "import numpy as np\n",
    "import matplotlib.pyplot as plt\n",
    "%matplotlib inline\n",
    "import seaborn as sns\n",
    "sns.set_context('talk')\n",
    "import re\n",
    "import nltk\n",
    "import string\n",
    "import pickle\n",
    "\n",
    "from gensim.models import Phrases\n",
    "from gensim.models import Word2Vec\n",
    "from gensim.models.phrases import Phraser\n",
    "from gensim.summarization.textcleaner import split_sentences\n",
    "\n",
    "from sklearn.feature_extraction.text import TfidfVectorizer, CountVectorizer\n",
    "from sklearn.manifold import TSNE\n",
    "\n",
    "from sklearn.decomposition import PCA\n",
    "from matplotlib import pyplot\n",
    "\n",
    "from textblob import TextBlob, Word, Blobber\n",
    "# to install textblob in your conda packages:\n",
    "# 1. go to anaconda prompt\n",
    "# 2. cd Anaconda3>Scripts>conda install -c conda-forge textblob\n",
    "import numpy as np\n",
    "import nltk\n",
    "nltk.download('punkt')\n",
    "nltk.download('words')\n",
    "nltk.download('stopwords')\n",
    "from nltk import word_tokenize,sent_tokenize\n",
    "from nltk.stem.porter import PorterStemmer\n",
    "from nltk.corpus import stopwords"
   ]
  },
  {
   "cell_type": "markdown",
   "metadata": {},
   "source": [
    "### Import required dataframes from web scraping notebook  to start analysing\n",
    "\n",
    "1. boutique names and information \"boutique_info\"  \n",
    "2. boutique reviews \"boutique_review\"  "
   ]
  },
  {
   "cell_type": "code",
   "execution_count": 4,
   "metadata": {},
   "outputs": [
    {
     "data": {
      "text/html": [
       "<div>\n",
       "<style scoped>\n",
       "    .dataframe tbody tr th:only-of-type {\n",
       "        vertical-align: middle;\n",
       "    }\n",
       "\n",
       "    .dataframe tbody tr th {\n",
       "        vertical-align: top;\n",
       "    }\n",
       "\n",
       "    .dataframe thead th {\n",
       "        text-align: right;\n",
       "    }\n",
       "</style>\n",
       "<table border=\"1\" class=\"dataframe\">\n",
       "  <thead>\n",
       "    <tr style=\"text-align: right;\">\n",
       "      <th></th>\n",
       "      <th>boutique_name</th>\n",
       "      <th>rating</th>\n",
       "      <th>number_reviews</th>\n",
       "      <th>price_range</th>\n",
       "      <th>phone_number</th>\n",
       "      <th>address</th>\n",
       "      <th>url_address</th>\n",
       "    </tr>\n",
       "  </thead>\n",
       "  <tbody>\n",
       "    <tr>\n",
       "      <th>0</th>\n",
       "      <td>Kisha Studio Fashion Boutique</td>\n",
       "      <td>5 star rating</td>\n",
       "      <td>120</td>\n",
       "      <td>$$</td>\n",
       "      <td>(415) 422-0468</td>\n",
       "      <td>210 Clement St</td>\n",
       "      <td>https://www.yelp.com/biz/kisha-studio-fashion-boutique-san-francisco-2?osq=Clothing+Boutiques</td>\n",
       "    </tr>\n",
       "    <tr>\n",
       "      <th>1</th>\n",
       "      <td>Morning Lavender</td>\n",
       "      <td>4 star rating</td>\n",
       "      <td>28</td>\n",
       "      <td>$$</td>\n",
       "      <td>(650) 797-0686</td>\n",
       "      <td>1846 Union St</td>\n",
       "      <td>https://www.yelp.com/biz/morning-lavender-san-francisco-2?osq=Clothing+Boutiques</td>\n",
       "    </tr>\n",
       "    <tr>\n",
       "      <th>2</th>\n",
       "      <td>Onyx</td>\n",
       "      <td>4.5 star rating</td>\n",
       "      <td>17</td>\n",
       "      <td>$$</td>\n",
       "      <td>(415) 431-6699</td>\n",
       "      <td>289 Divisadero St</td>\n",
       "      <td>https://www.yelp.com/biz/onyx-san-francisco-3?osq=Clothing+Boutiques</td>\n",
       "    </tr>\n",
       "    <tr>\n",
       "      <th>3</th>\n",
       "      <td>Wild Feather</td>\n",
       "      <td>5 star rating</td>\n",
       "      <td>29</td>\n",
       "      <td>$$$</td>\n",
       "      <td>(415) 786-2614</td>\n",
       "      <td>597 Haight St</td>\n",
       "      <td>https://www.yelp.com/biz/wild-feather-san-francisco?osq=Clothing+Boutiques</td>\n",
       "    </tr>\n",
       "    <tr>\n",
       "      <th>4</th>\n",
       "      <td>Asmbly Hall - formerly on Fillmore Street</td>\n",
       "      <td>4.5 star rating</td>\n",
       "      <td>26</td>\n",
       "      <td>$$</td>\n",
       "      <td>(415) 801-5862</td>\n",
       "      <td>624 Divisadero St</td>\n",
       "      <td>https://www.yelp.com/biz/asmbly-hall-formerly-on-fillmore-street-san-francisco?osq=Clothing+Boutiques</td>\n",
       "    </tr>\n",
       "  </tbody>\n",
       "</table>\n",
       "</div>"
      ],
      "text/plain": [
       "                               boutique_name           rating number_reviews  \\\n",
       "0              Kisha Studio Fashion Boutique    5 star rating            120   \n",
       "1                           Morning Lavender    4 star rating             28   \n",
       "2                                       Onyx  4.5 star rating             17   \n",
       "3                               Wild Feather    5 star rating             29   \n",
       "4  Asmbly Hall - formerly on Fillmore Street  4.5 star rating             26   \n",
       "\n",
       "  price_range    phone_number            address  \\\n",
       "0          $$  (415) 422-0468     210 Clement St   \n",
       "1          $$  (650) 797-0686      1846 Union St   \n",
       "2          $$  (415) 431-6699  289 Divisadero St   \n",
       "3         $$$  (415) 786-2614      597 Haight St   \n",
       "4          $$  (415) 801-5862  624 Divisadero St   \n",
       "\n",
       "                                                                                             url_address  \n",
       "0          https://www.yelp.com/biz/kisha-studio-fashion-boutique-san-francisco-2?osq=Clothing+Boutiques  \n",
       "1                       https://www.yelp.com/biz/morning-lavender-san-francisco-2?osq=Clothing+Boutiques  \n",
       "2                                   https://www.yelp.com/biz/onyx-san-francisco-3?osq=Clothing+Boutiques  \n",
       "3                             https://www.yelp.com/biz/wild-feather-san-francisco?osq=Clothing+Boutiques  \n",
       "4  https://www.yelp.com/biz/asmbly-hall-formerly-on-fillmore-street-san-francisco?osq=Clothing+Boutiques  "
      ]
     },
     "execution_count": 4,
     "metadata": {},
     "output_type": "execute_result"
    }
   ],
   "source": [
    "#import the final boutique_info dataframe from the web scraping notebooke:\n",
    "with open('boutique_info.pickle','rb') as f_read:\n",
    "    boutique_info = pickle.load(f_read)\n",
    "#set wider columns to check the reviews:    \n",
    "pd.options.display.max_colwidth = 200 \n",
    "boutique_info.head()"
   ]
  }
 ],
 "metadata": {
  "kernelspec": {
   "display_name": "Python 3",
   "language": "python",
   "name": "python3"
  },
  "language_info": {
   "codemirror_mode": {
    "name": "ipython",
    "version": 3
   },
   "file_extension": ".py",
   "mimetype": "text/x-python",
   "name": "python",
   "nbconvert_exporter": "python",
   "pygments_lexer": "ipython3",
   "version": "3.7.6"
  }
 },
 "nbformat": 4,
 "nbformat_minor": 4
}
